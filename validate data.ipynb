{
  "nbformat": 4,
  "nbformat_minor": 0,
  "metadata": {
    "colab": {
      "provenance": []
    },
    "kernelspec": {
      "name": "python3",
      "display_name": "Python 3"
    },
    "language_info": {
      "name": "python"
    }
  },
  "cells": [
    {
      "cell_type": "code",
      "execution_count": 3,
      "metadata": {
        "id": "icihwhQ3ZO7U"
      },
      "outputs": [],
      "source": [
        "import pandas as pd\n",
        "from datetime import datetime\n",
        "import re\n",
        "import numpy as np\n",
        "from datetime import date\n",
        "import random"
      ]
    },
    {
      "cell_type": "code",
      "source": [
        "#split text dengan pemisah titik dan get index 1 \n",
        "def normalize_column_name(column_name):\n",
        "    return column_name.split(\".\")[1]\n",
        "normalize_column_name('testing.age')"
      ],
      "metadata": {
        "colab": {
          "base_uri": "https://localhost:8080/",
          "height": 36
        },
        "id": "_i2_rXxmc8-R",
        "outputId": "26ecc9a7-b02b-44aa-da00-41e17a72f085"
      },
      "execution_count": 4,
      "outputs": [
        {
          "output_type": "execute_result",
          "data": {
            "text/plain": [
              "'age'"
            ],
            "application/vnd.google.colaboratory.intrinsic+json": {
              "type": "string"
            }
          },
          "metadata": {},
          "execution_count": 4
        }
      ]
    },
    {
      "cell_type": "code",
      "source": [
        "#menghitung persentase, dengan pembulatan 4 angka dibelakang koma\n",
        "def percentage(jumlah, total):\n",
        "    if total != 0:\n",
        "        return round(jumlah/total*100 , 4)\n",
        "    else:\n",
        "        return 0\n",
        "a=percentage(100,12)\n",
        "b=percentage(4, 0)\n",
        "print(a)\n",
        "print(b)"
      ],
      "metadata": {
        "colab": {
          "base_uri": "https://localhost:8080/"
        },
        "id": "hPMKYzs3dZrY",
        "outputId": "5178bb72-93c4-4891-d8d7-112d0c8db97d"
      },
      "execution_count": 7,
      "outputs": [
        {
          "output_type": "stream",
          "name": "stdout",
          "text": [
            "833.3333\n",
            "0\n"
          ]
        }
      ]
    },
    {
      "cell_type": "code",
      "source": [
        "#validate email\n",
        "def email_is_correct(email):\n",
        "    try:\n",
        "        return bool(re.fullmatch(\"[a-zA-Z0-9.]+@[a-zA-Z0-9]+.[a-zA-Z0-9]+\", email)) and True\n",
        "    except:\n",
        "        pass\n",
        "\n",
        "a=email_is_correct('abc@gmail.com')\n",
        "b=email_is_correct('dggfgf@.com')\n",
        "print(a)\n",
        "print(b)"
      ],
      "metadata": {
        "colab": {
          "base_uri": "https://localhost:8080/"
        },
        "id": "vrRjDaz1eHYl",
        "outputId": "34787e6c-b142-48f4-a644-84cd00f6158a"
      },
      "execution_count": 8,
      "outputs": [
        {
          "output_type": "stream",
          "name": "stdout",
          "text": [
            "True\n",
            "False\n"
          ]
        }
      ]
    },
    {
      "cell_type": "code",
      "source": [
        "#validate date with form YYYY-MM-DD\n",
        "def validate_date(date_str):\n",
        "    try:\n",
        "        return bool(datetime.strptime(date_str, \"%Y-%m-%d\")) and True\n",
        "    except:\n",
        "        return False\n",
        "a=validate_date('1998-10-10')\n",
        "b=validate_date('20-02-1998')\n",
        "print(a)\n",
        "print(b)"
      ],
      "metadata": {
        "colab": {
          "base_uri": "https://localhost:8080/"
        },
        "id": "jL2VjexUedLW",
        "outputId": "aa50dac2-82e7-4c1b-c914-3661b68dc1b4"
      },
      "execution_count": 12,
      "outputs": [
        {
          "output_type": "stream",
          "name": "stdout",
          "text": [
            "True\n",
            "False\n"
          ]
        }
      ]
    },
    {
      "cell_type": "code",
      "source": [
        "def validate_notelp(string):\n",
        "    try:\n",
        "        return bool([ele for ele in kodearea if(ele in string[1:4])] and re.match(\"^[0-9+]+$\", string) and re.match(\"^(\\+62|62|0)[1-9][0-9]{6,10}$\", string)) and True\n",
        "    except:\n",
        "        pass"
      ],
      "metadata": {
        "id": "HNLN1cxMfDld"
      },
      "execution_count": null,
      "outputs": []
    },
    {
      "cell_type": "code",
      "source": [
        "def validate_name(string):\n",
        "    try:\n",
        "        return bool(re.match(\"^[A-Za-z0-9]+[A-Za-z0-9 ]*$\", string)) and True\n",
        "    except:\n",
        "        pass"
      ],
      "metadata": {
        "id": "ouTi6hQUfHLk"
      },
      "execution_count": null,
      "outputs": []
    },
    {
      "cell_type": "code",
      "source": [
        "def validate_alfanum(string):\n",
        "    try:\n",
        "        return bool(re.match(\"^[a-zA-Z0-9]*$\", string)) and True\n",
        "    except:\n",
        "        pass"
      ],
      "metadata": {
        "id": "jovd1JNXfJbg"
      },
      "execution_count": null,
      "outputs": []
    },
    {
      "cell_type": "code",
      "source": [
        "def multiple_space(string):\n",
        "    try:\n",
        "        new_str = re.sub(' +', ' ', string)\n",
        "        if string == new_str:\n",
        "            return True\n",
        "        else:\n",
        "            return False\n",
        "    except:\n",
        "        pass"
      ],
      "metadata": {
        "id": "-qPAqdjMfORa"
      },
      "execution_count": null,
      "outputs": []
    },
    {
      "cell_type": "code",
      "source": [
        "def validate_nohp_indo(string):\n",
        "    try:\n",
        "        return bool(re.match(\"^(\\+62|62|0)8[1-9][0-9]{7,11}$\", string) and re.match(\"^[0-9+]+$\", string)) and True\n",
        "    except:\n",
        "        pass"
      ],
      "metadata": {
        "id": "muRqIcYofPvF"
      },
      "execution_count": null,
      "outputs": []
    },
    {
      "cell_type": "code",
      "source": [
        "def validate_max3number(string):\n",
        "    try:\n",
        "        return bool(re.search(r'(\\d)\\1{3}', string))\n",
        "    except:\n",
        "        pass"
      ],
      "metadata": {
        "id": "muchg6UxfR6j"
      },
      "execution_count": null,
      "outputs": []
    },
    {
      "cell_type": "code",
      "source": [
        "def validate_angka(string):\n",
        "    try:\n",
        "        return bool(re.match(\"^[0-9]+$\", string)) and True\n",
        "    except:\n",
        "        pass"
      ],
      "metadata": {
        "id": "MVUzghwvfWT1"
      },
      "execution_count": null,
      "outputs": []
    },
    {
      "cell_type": "code",
      "source": [
        "def validate_pendidikan(string):\n",
        "    try:\n",
        "        if string in pendidikan:\n",
        "            return True\n",
        "        else:\n",
        "            return False\n",
        "    except:\n",
        "        pass"
      ],
      "metadata": {
        "id": "M26CDhIOfalE"
      },
      "execution_count": null,
      "outputs": []
    },
    {
      "cell_type": "code",
      "source": [
        "def validate_city(string):\n",
        "    try:\n",
        "        return bool([ele for ele in kota if(ele in string)]) and True\n",
        "    except:\n",
        "        pass"
      ],
      "metadata": {
        "id": "3pBAFgEhfcMJ"
      },
      "execution_count": null,
      "outputs": []
    },
    {
      "cell_type": "code",
      "source": [
        "def validate_kelurahan(string):\n",
        "    try:\n",
        "        return bool([ele for ele in kelurahan if(ele in string)]) and True\n",
        "    except:\n",
        "        pass"
      ],
      "metadata": {
        "id": "UuMY3SF0fesg"
      },
      "execution_count": null,
      "outputs": []
    },
    {
      "cell_type": "code",
      "source": [
        "def validate_kecamatan(string):\n",
        "    try:\n",
        "        return bool([ele for ele in kecamatan if(ele in string)]) and True\n",
        "    except:\n",
        "        pass"
      ],
      "metadata": {
        "id": "hnPtUQ8TfjdG"
      },
      "execution_count": null,
      "outputs": []
    },
    {
      "cell_type": "code",
      "source": [
        "def validate_rt(string):\n",
        "    try:\n",
        "        return bool(re.match(r'^([\\s\\d]+)$', string)) and len(str(string))==3 and True\n",
        "    except:\n",
        "        pass"
      ],
      "metadata": {
        "id": "mV5xa-r1cmEt"
      },
      "execution_count": null,
      "outputs": []
    }
  ]
}